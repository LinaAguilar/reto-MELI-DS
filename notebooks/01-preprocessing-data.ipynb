{
 "cells": [
  {
   "cell_type": "code",
   "execution_count": 50,
   "metadata": {},
   "outputs": [],
   "source": [
    "import pandas as pd\n",
    "import seaborn as sns\n",
    "import matplotlib.pyplot as plt\n",
    "import numpy as np\n",
    "from sklearn.preprocessing import StandardScaler, RobustScaler\n",
    "from imblearn.combine import SMOTETomek"
   ]
  },
  {
   "cell_type": "code",
   "execution_count": 51,
   "metadata": {},
   "outputs": [
    {
     "data": {
      "text/html": [
       "<div>\n",
       "<style scoped>\n",
       "    .dataframe tbody tr th:only-of-type {\n",
       "        vertical-align: middle;\n",
       "    }\n",
       "\n",
       "    .dataframe tbody tr th {\n",
       "        vertical-align: top;\n",
       "    }\n",
       "\n",
       "    .dataframe thead th {\n",
       "        text-align: right;\n",
       "    }\n",
       "</style>\n",
       "<table border=\"1\" class=\"dataframe\">\n",
       "  <thead>\n",
       "    <tr style=\"text-align: right;\">\n",
       "      <th></th>\n",
       "      <th>a</th>\n",
       "      <th>b</th>\n",
       "      <th>c</th>\n",
       "      <th>d</th>\n",
       "      <th>e</th>\n",
       "      <th>f</th>\n",
       "      <th>g</th>\n",
       "      <th>h</th>\n",
       "      <th>j</th>\n",
       "      <th>k</th>\n",
       "      <th>l</th>\n",
       "      <th>m</th>\n",
       "      <th>n</th>\n",
       "      <th>o</th>\n",
       "      <th>p</th>\n",
       "      <th>fecha</th>\n",
       "      <th>monto</th>\n",
       "      <th>score</th>\n",
       "      <th>fraude</th>\n",
       "    </tr>\n",
       "  </thead>\n",
       "  <tbody>\n",
       "    <tr>\n",
       "      <th>0</th>\n",
       "      <td>4</td>\n",
       "      <td>0.6812</td>\n",
       "      <td>50084.12</td>\n",
       "      <td>50.0</td>\n",
       "      <td>0.000000</td>\n",
       "      <td>20.0</td>\n",
       "      <td>AR</td>\n",
       "      <td>1</td>\n",
       "      <td>cat_d26ab52</td>\n",
       "      <td>0.365475</td>\n",
       "      <td>2479.0</td>\n",
       "      <td>952.0</td>\n",
       "      <td>1</td>\n",
       "      <td>NaN</td>\n",
       "      <td>Y</td>\n",
       "      <td>2020-03-20 09:28:19</td>\n",
       "      <td>57.63</td>\n",
       "      <td>100</td>\n",
       "      <td>0</td>\n",
       "    </tr>\n",
       "    <tr>\n",
       "      <th>1</th>\n",
       "      <td>4</td>\n",
       "      <td>0.6694</td>\n",
       "      <td>66005.49</td>\n",
       "      <td>0.0</td>\n",
       "      <td>0.000000</td>\n",
       "      <td>2.0</td>\n",
       "      <td>AR</td>\n",
       "      <td>1</td>\n",
       "      <td>cat_ea962fb</td>\n",
       "      <td>0.612728</td>\n",
       "      <td>2603.0</td>\n",
       "      <td>105.0</td>\n",
       "      <td>1</td>\n",
       "      <td>Y</td>\n",
       "      <td>Y</td>\n",
       "      <td>2020-03-09 13:58:28</td>\n",
       "      <td>40.19</td>\n",
       "      <td>25</td>\n",
       "      <td>0</td>\n",
       "    </tr>\n",
       "    <tr>\n",
       "      <th>2</th>\n",
       "      <td>4</td>\n",
       "      <td>0.4718</td>\n",
       "      <td>7059.05</td>\n",
       "      <td>4.0</td>\n",
       "      <td>0.463488</td>\n",
       "      <td>92.0</td>\n",
       "      <td>BR</td>\n",
       "      <td>25</td>\n",
       "      <td>cat_4c2544e</td>\n",
       "      <td>0.651835</td>\n",
       "      <td>2153.0</td>\n",
       "      <td>249.0</td>\n",
       "      <td>1</td>\n",
       "      <td>Y</td>\n",
       "      <td>Y</td>\n",
       "      <td>2020-04-08 12:25:55</td>\n",
       "      <td>5.77</td>\n",
       "      <td>23</td>\n",
       "      <td>0</td>\n",
       "    </tr>\n",
       "    <tr>\n",
       "      <th>3</th>\n",
       "      <td>4</td>\n",
       "      <td>0.7260</td>\n",
       "      <td>10043.10</td>\n",
       "      <td>24.0</td>\n",
       "      <td>0.046845</td>\n",
       "      <td>43.0</td>\n",
       "      <td>BR</td>\n",
       "      <td>43</td>\n",
       "      <td>cat_1b59ee3</td>\n",
       "      <td>0.692728</td>\n",
       "      <td>4845.0</td>\n",
       "      <td>141.0</td>\n",
       "      <td>1</td>\n",
       "      <td>N</td>\n",
       "      <td>Y</td>\n",
       "      <td>2020-03-14 11:46:13</td>\n",
       "      <td>40.89</td>\n",
       "      <td>23</td>\n",
       "      <td>0</td>\n",
       "    </tr>\n",
       "    <tr>\n",
       "      <th>4</th>\n",
       "      <td>4</td>\n",
       "      <td>0.7758</td>\n",
       "      <td>16584.42</td>\n",
       "      <td>2.0</td>\n",
       "      <td>0.154616</td>\n",
       "      <td>54.0</td>\n",
       "      <td>BR</td>\n",
       "      <td>0</td>\n",
       "      <td>cat_9bacaa5</td>\n",
       "      <td>0.201354</td>\n",
       "      <td>2856.0</td>\n",
       "      <td>18.0</td>\n",
       "      <td>1</td>\n",
       "      <td>Y</td>\n",
       "      <td>N</td>\n",
       "      <td>2020-03-23 14:17:13</td>\n",
       "      <td>18.98</td>\n",
       "      <td>71</td>\n",
       "      <td>0</td>\n",
       "    </tr>\n",
       "  </tbody>\n",
       "</table>\n",
       "</div>"
      ],
      "text/plain": [
       "   a       b         c     d         e     f   g   h            j         k  \\\n",
       "0  4  0.6812  50084.12  50.0  0.000000  20.0  AR   1  cat_d26ab52  0.365475   \n",
       "1  4  0.6694  66005.49   0.0  0.000000   2.0  AR   1  cat_ea962fb  0.612728   \n",
       "2  4  0.4718   7059.05   4.0  0.463488  92.0  BR  25  cat_4c2544e  0.651835   \n",
       "3  4  0.7260  10043.10  24.0  0.046845  43.0  BR  43  cat_1b59ee3  0.692728   \n",
       "4  4  0.7758  16584.42   2.0  0.154616  54.0  BR   0  cat_9bacaa5  0.201354   \n",
       "\n",
       "        l      m  n    o  p                fecha  monto  score  fraude  \n",
       "0  2479.0  952.0  1  NaN  Y  2020-03-20 09:28:19  57.63    100       0  \n",
       "1  2603.0  105.0  1    Y  Y  2020-03-09 13:58:28  40.19     25       0  \n",
       "2  2153.0  249.0  1    Y  Y  2020-04-08 12:25:55   5.77     23       0  \n",
       "3  4845.0  141.0  1    N  Y  2020-03-14 11:46:13  40.89     23       0  \n",
       "4  2856.0   18.0  1    Y  N  2020-03-23 14:17:13  18.98     71       0  "
      ]
     },
     "execution_count": 51,
     "metadata": {},
     "output_type": "execute_result"
    }
   ],
   "source": [
    "#cargar los datos desde csv\n",
    "df = pd.read_csv(\"../data/fraudDataset.csv\")\n",
    "df.head()"
   ]
  },
  {
   "cell_type": "markdown",
   "metadata": {},
   "source": [
    "## Limpieza de Datos"
   ]
  },
  {
   "cell_type": "markdown",
   "metadata": {},
   "source": [
    "Tratamiento de datos faltantes (nan)"
   ]
  },
  {
   "cell_type": "code",
   "execution_count": 52,
   "metadata": {},
   "outputs": [
    {
     "name": "stderr",
     "output_type": "stream",
     "text": [
      "C:\\Users\\Ubits.PC220318\\AppData\\Local\\Temp\\ipykernel_3672\\473455268.py:3: FutureWarning: A value is trying to be set on a copy of a DataFrame or Series through chained assignment using an inplace method.\n",
      "The behavior will change in pandas 3.0. This inplace method will never work because the intermediate object on which we are setting values always behaves as a copy.\n",
      "\n",
      "For example, when doing 'df[col].method(value, inplace=True)', try using 'df.method({col: value}, inplace=True)' or df[col] = df[col].method(value) instead, to perform the operation inplace on the original object.\n",
      "\n",
      "\n",
      "  df_processed['b'].fillna(df_processed['b'].median(), inplace=True) #por tener distribución sesgada\n",
      "C:\\Users\\Ubits.PC220318\\AppData\\Local\\Temp\\ipykernel_3672\\473455268.py:4: FutureWarning: A value is trying to be set on a copy of a DataFrame or Series through chained assignment using an inplace method.\n",
      "The behavior will change in pandas 3.0. This inplace method will never work because the intermediate object on which we are setting values always behaves as a copy.\n",
      "\n",
      "For example, when doing 'df[col].method(value, inplace=True)', try using 'df.method({col: value}, inplace=True)' or df[col] = df[col].method(value) instead, to perform the operation inplace on the original object.\n",
      "\n",
      "\n",
      "  df_processed['c'].fillna(df_processed['c'].median(), inplace=True) #altamente sesgada con outliers\n",
      "C:\\Users\\Ubits.PC220318\\AppData\\Local\\Temp\\ipykernel_3672\\473455268.py:5: FutureWarning: A value is trying to be set on a copy of a DataFrame or Series through chained assignment using an inplace method.\n",
      "The behavior will change in pandas 3.0. This inplace method will never work because the intermediate object on which we are setting values always behaves as a copy.\n",
      "\n",
      "For example, when doing 'df[col].method(value, inplace=True)', try using 'df.method({col: value}, inplace=True)' or df[col] = df[col].method(value) instead, to perform the operation inplace on the original object.\n",
      "\n",
      "\n",
      "  df_processed['d'].fillna(df_processed['d'].median(), inplace=True) #sesgada\n",
      "C:\\Users\\Ubits.PC220318\\AppData\\Local\\Temp\\ipykernel_3672\\473455268.py:6: FutureWarning: A value is trying to be set on a copy of a DataFrame or Series through chained assignment using an inplace method.\n",
      "The behavior will change in pandas 3.0. This inplace method will never work because the intermediate object on which we are setting values always behaves as a copy.\n",
      "\n",
      "For example, when doing 'df[col].method(value, inplace=True)', try using 'df.method({col: value}, inplace=True)' or df[col] = df[col].method(value) instead, to perform the operation inplace on the original object.\n",
      "\n",
      "\n",
      "  df_processed['f'].fillna(df_processed['f'].median(), inplace=True) #sesgada\n",
      "C:\\Users\\Ubits.PC220318\\AppData\\Local\\Temp\\ipykernel_3672\\473455268.py:7: FutureWarning: A value is trying to be set on a copy of a DataFrame or Series through chained assignment using an inplace method.\n",
      "The behavior will change in pandas 3.0. This inplace method will never work because the intermediate object on which we are setting values always behaves as a copy.\n",
      "\n",
      "For example, when doing 'df[col].method(value, inplace=True)', try using 'df.method({col: value}, inplace=True)' or df[col] = df[col].method(value) instead, to perform the operation inplace on the original object.\n",
      "\n",
      "\n",
      "  df_processed['l'].fillna(df_processed['l'].median(), inplace=True) #sesgada\n",
      "C:\\Users\\Ubits.PC220318\\AppData\\Local\\Temp\\ipykernel_3672\\473455268.py:8: FutureWarning: A value is trying to be set on a copy of a DataFrame or Series through chained assignment using an inplace method.\n",
      "The behavior will change in pandas 3.0. This inplace method will never work because the intermediate object on which we are setting values always behaves as a copy.\n",
      "\n",
      "For example, when doing 'df[col].method(value, inplace=True)', try using 'df.method({col: value}, inplace=True)' or df[col] = df[col].method(value) instead, to perform the operation inplace on the original object.\n",
      "\n",
      "\n",
      "  df_processed['m'].fillna(df_processed['m'].median(), inplace=True) #sesgada\n"
     ]
    }
   ],
   "source": [
    "# Imputar con la mediana\n",
    "df_processed = df.copy()\n",
    "df_processed['b'].fillna(df_processed['b'].median(), inplace=True) #por tener distribución sesgada\n",
    "df_processed['c'].fillna(df_processed['c'].median(), inplace=True) #altamente sesgada con outliers\n",
    "df_processed['d'].fillna(df_processed['d'].median(), inplace=True) #sesgada\n",
    "df_processed['f'].fillna(df_processed['f'].median(), inplace=True) #sesgada\n",
    "df_processed['l'].fillna(df_processed['l'].median(), inplace=True) #sesgada\n",
    "df_processed['m'].fillna(df_processed['m'].median(), inplace=True) #sesgada"
   ]
  },
  {
   "cell_type": "code",
   "execution_count": 53,
   "metadata": {},
   "outputs": [
    {
     "name": "stderr",
     "output_type": "stream",
     "text": [
      "C:\\Users\\Ubits.PC220318\\AppData\\Local\\Temp\\ipykernel_3672\\3706001778.py:1: FutureWarning: A value is trying to be set on a copy of a DataFrame or Series through chained assignment using an inplace method.\n",
      "The behavior will change in pandas 3.0. This inplace method will never work because the intermediate object on which we are setting values always behaves as a copy.\n",
      "\n",
      "For example, when doing 'df[col].method(value, inplace=True)', try using 'df.method({col: value}, inplace=True)' or df[col] = df[col].method(value) instead, to perform the operation inplace on the original object.\n",
      "\n",
      "\n",
      "  df_processed['o'].fillna('UN', inplace=True) #tiene muchos valores nulos luego llenamos con UNKNOWN\n",
      "C:\\Users\\Ubits.PC220318\\AppData\\Local\\Temp\\ipykernel_3672\\3706001778.py:2: FutureWarning: A value is trying to be set on a copy of a DataFrame or Series through chained assignment using an inplace method.\n",
      "The behavior will change in pandas 3.0. This inplace method will never work because the intermediate object on which we are setting values always behaves as a copy.\n",
      "\n",
      "For example, when doing 'df[col].method(value, inplace=True)', try using 'df.method({col: value}, inplace=True)' or df[col] = df[col].method(value) instead, to perform the operation inplace on the original object.\n",
      "\n",
      "\n",
      "  df_processed['g'].fillna(df_processed['g'].mode()[0], inplace=True) #categórica luego llenamos con la moda\n"
     ]
    }
   ],
   "source": [
    "df_processed['o'].fillna('UN', inplace=True) #tiene muchos valores nulos luego llenamos con UNKNOWN\n",
    "df_processed['g'].fillna(df_processed['g'].mode()[0], inplace=True) #categórica luego llenamos con la moda"
   ]
  },
  {
   "cell_type": "markdown",
   "metadata": {},
   "source": [
    "Dividir la fecha en valores numéricos para el tratamiento en el modelo"
   ]
  },
  {
   "cell_type": "code",
   "execution_count": 54,
   "metadata": {},
   "outputs": [],
   "source": [
    "# convertir fecha a date_time y extraer características\n",
    "df_processed['fecha'] = pd.to_datetime(df_processed['fecha'])\n",
    "df_processed['dia'] = df_processed['fecha'].dt.day\n",
    "df_processed['mes'] = df_processed['fecha'].dt.month\n",
    "df_processed['hora'] = df_processed['fecha'].dt.hour"
   ]
  },
  {
   "cell_type": "code",
   "execution_count": 55,
   "metadata": {},
   "outputs": [],
   "source": [
    "\n",
    "\n",
    "# Normalización estándar\n",
    "scaler = StandardScaler()\n",
    "df_processed[['normalized_monto', 'score', 'b', 'k']] = scaler.fit_transform(df_processed[['monto', 'score', 'b', 'k']])\n",
    "\n",
    "# Transformación logarítmica para distribuciones sesgadas con valores positivos\n",
    "df_processed['c'] = np.log1p(df_processed['c'])\n",
    "df_processed['m'] = np.log1p(df_processed['m'])\n",
    "\n",
    "# Escalado robusto por la presencia de outliers y valores negativos\n",
    "robust_scaler = RobustScaler()\n",
    "df_processed[['l','f']] = robust_scaler.fit_transform(df_processed[['l','f']])\n",
    "\n",
    "# One-Hot Encoding para variables categóricas\n",
    "df_processed = pd.get_dummies(df_processed, columns=['a', 'g', 'o', 'p'], drop_first=True)"
   ]
  },
  {
   "cell_type": "markdown",
   "metadata": {},
   "source": [
    "Normalizaciones y escalado"
   ]
  },
  {
   "cell_type": "markdown",
   "metadata": {},
   "source": [
    "Verificar coeficiente de Cramer para ver correlación con la variable objetivo de la j que tiene muchas categorías."
   ]
  },
  {
   "cell_type": "code",
   "execution_count": 56,
   "metadata": {},
   "outputs": [
    {
     "name": "stdout",
     "output_type": "stream",
     "text": [
      "Coeficiente de Cramér's V: 0.2777\n"
     ]
    }
   ],
   "source": [
    "import pandas as pd\n",
    "import scipy.stats as stats\n",
    "\n",
    "# Crear una tabla de contingencia entre 'j' y 'fraude'\n",
    "contingency_table = pd.crosstab(df_processed['j'], df_processed['fraude'])\n",
    "\n",
    "# Calcular el estadístico de Chi-Cuadrado y el coeficiente de Cramér's V\n",
    "chi2, p, dof, expected = stats.chi2_contingency(contingency_table)\n",
    "n = contingency_table.sum().sum()\n",
    "phi2 = chi2 / n\n",
    "r, k = contingency_table.shape\n",
    "cramers_v = np.sqrt(phi2 / min((k-1), (r-1)))\n",
    "\n",
    "print(f\"Coeficiente de Cramér's V: {cramers_v:.4f}\")"
   ]
  },
  {
   "cell_type": "markdown",
   "metadata": {},
   "source": [
    "Se decide por baja relación dada por el coeficiente de Cramér, quitar la columna j"
   ]
  },
  {
   "cell_type": "code",
   "execution_count": 57,
   "metadata": {},
   "outputs": [],
   "source": [
    "df_processed.drop(columns=['j','fecha'], inplace=True)\n"
   ]
  },
  {
   "cell_type": "code",
   "execution_count": 58,
   "metadata": {},
   "outputs": [],
   "source": [
    "df_processed.to_csv(\"../data/df_processed.csv\", index=False)"
   ]
  },
  {
   "cell_type": "code",
   "execution_count": 59,
   "metadata": {},
   "outputs": [
    {
     "name": "stdout",
     "output_type": "stream",
     "text": [
      "fraude\n",
      "0    142359\n",
      "1    142359\n",
      "Name: count, dtype: int64\n"
     ]
    }
   ],
   "source": [
    "# Separar las características (X) y la variable objetivo (y)\n",
    "X = df_processed.drop(columns=['fraude'])\n",
    "y = df_processed['fraude']\n",
    "\n",
    "# Aplicar SMOTE + Tomek Links\n",
    "smt = SMOTETomek(random_state=42)\n",
    "X_balanced, y_balanced = smt.fit_resample(X, y)\n",
    "\n",
    "# Crear un nuevo DataFrame balanceado\n",
    "df_processed_balanced = pd.DataFrame(X_balanced, columns=X.columns)\n",
    "df_processed_balanced['fraude'] = y_balanced\n",
    "\n",
    "# Verificar el balance de clases\n",
    "print(df_processed_balanced['fraude'].value_counts())"
   ]
  },
  {
   "cell_type": "code",
   "execution_count": 60,
   "metadata": {},
   "outputs": [],
   "source": [
    "df_processed_balanced.to_csv(\"../data/df_processed_balanced.csv\", index=False)"
   ]
  }
 ],
 "metadata": {
  "kernelspec": {
   "display_name": "Python 3",
   "language": "python",
   "name": "python3"
  },
  "language_info": {
   "codemirror_mode": {
    "name": "ipython",
    "version": 3
   },
   "file_extension": ".py",
   "mimetype": "text/x-python",
   "name": "python",
   "nbconvert_exporter": "python",
   "pygments_lexer": "ipython3",
   "version": "3.13.2"
  }
 },
 "nbformat": 4,
 "nbformat_minor": 2
}
